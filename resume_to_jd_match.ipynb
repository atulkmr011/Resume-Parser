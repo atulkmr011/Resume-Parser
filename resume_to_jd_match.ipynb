{
 "cells": [
  {
   "cell_type": "code",
   "execution_count": 1,
   "metadata": {},
   "outputs": [],
   "source": [
    "# for converting doc file to text\n",
    "import docx2txt\n",
    "\n",
    "from sklearn.feature_extraction.text import TfidfVectorizer\n",
    "from sklearn.feature_extraction.text import CountVectorizer"
   ]
  },
  {
   "cell_type": "code",
   "execution_count": 2,
   "metadata": {},
   "outputs": [],
   "source": [
    "# load the resume of the applicant\n",
    "resume =  docx2txt.process(\"Resume.docx\")\n",
    "#print(resume)"
   ]
  },
  {
   "cell_type": "code",
   "execution_count": 3,
   "metadata": {},
   "outputs": [],
   "source": [
    "# load the JD of the JOB\n",
    "job_desc =  docx2txt.process(\"Jd.docx\")\n",
    "#print(job_desc)"
   ]
  },
  {
   "cell_type": "code",
   "execution_count": 4,
   "metadata": {},
   "outputs": [],
   "source": [
    "# List of text to store resume\n",
    "text = [resume,job_desc]"
   ]
  },
  {
   "cell_type": "code",
   "execution_count": 49,
   "metadata": {},
   "outputs": [],
   "source": [
    "# import library to count the occurance of each word\n",
    "#cv = CountVectorizer()\n",
    "#count_matrix = cv.fit_transform(text)                            #creates count matrics"
   ]
  },
  {
   "cell_type": "code",
   "execution_count": 5,
   "metadata": {},
   "outputs": [],
   "source": [
    "#or\n",
    "#Vectorizing pre-processed combo using TF-IDF\n",
    "\n",
    "tfidfvec = TfidfVectorizer()\n",
    "tfidf_matrix = tfidfvec.fit_transform(text).toarray()"
   ]
  },
  {
   "cell_type": "code",
   "execution_count": 6,
   "metadata": {},
   "outputs": [
    {
     "name": "stdout",
     "output_type": "stream",
     "text": [
      "[[1.         0.82159701]\n",
      " [0.82159701 1.        ]]\n"
     ]
    }
   ],
   "source": [
    "# library to check how similar both documents are\n",
    "from sklearn.metrics.pairwise import cosine_similarity\n",
    "cos_similarity = cosine_similarity(tfidf_matrix)\n",
    "print(cos_similarity)"
   ]
  },
  {
   "cell_type": "code",
   "execution_count": 7,
   "metadata": {},
   "outputs": [
    {
     "name": "stdout",
     "output_type": "stream",
     "text": [
      "82.16\n"
     ]
    }
   ],
   "source": [
    "#store variable in %\n",
    "match = cosine_similarity(tfidf_matrix)[0][1]\n",
    "match = match*100\n",
    "match = round(match,2)\n",
    "print(match)\n"
   ]
  },
  {
   "cell_type": "code",
   "execution_count": 53,
   "metadata": {},
   "outputs": [
    {
     "name": "stdout",
     "output_type": "stream",
     "text": [
      "application is accepted\n"
     ]
    }
   ],
   "source": [
    "if(match>60):\n",
    "    print(\"application is accepted\")\n",
    "else :\n",
    "    print(\"application is rejected\")"
   ]
  },
  {
   "cell_type": "code",
   "execution_count": null,
   "metadata": {},
   "outputs": [],
   "source": []
  },
  {
   "cell_type": "code",
   "execution_count": null,
   "metadata": {},
   "outputs": [],
   "source": []
  }
 ],
 "metadata": {
  "kernelspec": {
   "display_name": "Python 3",
   "language": "python",
   "name": "python3"
  },
  "language_info": {
   "codemirror_mode": {
    "name": "ipython",
    "version": 3
   },
   "file_extension": ".py",
   "mimetype": "text/x-python",
   "name": "python",
   "nbconvert_exporter": "python",
   "pygments_lexer": "ipython3",
   "version": "3.7.6"
  }
 },
 "nbformat": 4,
 "nbformat_minor": 4
}
